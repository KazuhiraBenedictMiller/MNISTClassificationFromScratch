{
 "cells": [
  {
   "cell_type": "code",
   "execution_count": 1,
   "id": "9241eb64",
   "metadata": {
    "_cell_guid": "b1076dfc-b9ad-4769-8c92-a6c4dae69d19",
    "_uuid": "8f2839f25d086af736a60e9eeb907d3b93b6e0e5",
    "execution": {
     "iopub.execute_input": "2023-03-01T16:40:02.379011Z",
     "iopub.status.busy": "2023-03-01T16:40:02.377801Z",
     "iopub.status.idle": "2023-03-01T16:40:02.395726Z",
     "shell.execute_reply": "2023-03-01T16:40:02.394054Z"
    },
    "papermill": {
     "duration": 0.032984,
     "end_time": "2023-03-01T16:40:02.399432",
     "exception": false,
     "start_time": "2023-03-01T16:40:02.366448",
     "status": "completed"
    },
    "tags": []
   },
   "outputs": [
    {
     "name": "stdout",
     "output_type": "stream",
     "text": [
      "/kaggle/input/digit-recognizer/sample_submission.csv\n",
      "/kaggle/input/digit-recognizer/train.csv\n",
      "/kaggle/input/digit-recognizer/test.csv\n"
     ]
    }
   ],
   "source": [
    "# This Python 3 environment comes with many helpful analytics libraries installed\n",
    "# It is defined by the kaggle/python Docker image: https://github.com/kaggle/docker-python\n",
    "# For example, here's several helpful packages to load\n",
    "\n",
    "import numpy as np # linear algebra\n",
    "import pandas as pd # data processing, CSV file I/O (e.g. pd.read_csv)\n",
    "\n",
    "# Input data files are available in the read-only \"../input/\" directory\n",
    "# For example, running this (by clicking run or pressing Shift+Enter) will list all files under the input directory\n",
    "\n",
    "import os\n",
    "for dirname, _, filenames in os.walk('/kaggle/input'):\n",
    "    for filename in filenames:\n",
    "        print(os.path.join(dirname, filename))\n",
    "\n",
    "# You can write up to 20GB to the current directory (/kaggle/working/) that gets preserved as output when you create a version using \"Save & Run All\" \n",
    "# You can also write temporary files to /kaggle/temp/, but they won't be saved outside of the current session"
   ]
  },
  {
   "cell_type": "markdown",
   "id": "be49f4f3",
   "metadata": {
    "papermill": {
     "duration": 0.005667,
     "end_time": "2023-03-01T16:40:02.412401",
     "exception": false,
     "start_time": "2023-03-01T16:40:02.406734",
     "status": "completed"
    },
    "tags": []
   },
   "source": [
    "# **Let's use Raw Python with Numpy and Math to Solve a common Classification problem with the MNIST DataSet a.k.a \"The Hello World! of Machine Learning\".**"
   ]
  },
  {
   "cell_type": "markdown",
   "id": "f644fa7f",
   "metadata": {
    "papermill": {
     "duration": 0.005645,
     "end_time": "2023-03-01T16:40:02.423957",
     "exception": false,
     "start_time": "2023-03-01T16:40:02.418312",
     "status": "completed"
    },
    "tags": []
   },
   "source": [
    "> The MNIST DataSet is an already Pre-Processed DataSet that contains handwritten digits (from 1 to 10) as 28x28 Pixels Matrices, where each pixel represent the density of the color Black, from 0 - Completely Dark to 255 - Completely White.\n",
    "> We'll teach the Machine, through Supervised Learning, how to correctly classify the handwritten digits, or in other terms, to understand which number it's in front of, based on the color (Black) density of each of the 784 Pixels."
   ]
  },
  {
   "cell_type": "markdown",
   "id": "7565062a",
   "metadata": {
    "papermill": {
     "duration": 0.005748,
     "end_time": "2023-03-01T16:40:02.435582",
     "exception": false,
     "start_time": "2023-03-01T16:40:02.429834",
     "status": "completed"
    },
    "tags": []
   },
   "source": [
    "# PLEASE NOTE:\n",
    "**The Neural Network we are going to build is Hard-Coded, which means that this code is not Flexible enough to handle Different NN Architectures without rewriting many parts of the Code.**"
   ]
  },
  {
   "cell_type": "markdown",
   "id": "d1e17db1",
   "metadata": {
    "papermill": {
     "duration": 0.00554,
     "end_time": "2023-03-01T16:40:02.447015",
     "exception": false,
     "start_time": "2023-03-01T16:40:02.441475",
     "status": "completed"
    },
    "tags": []
   },
   "source": [
    "* **Importing the Required Libraries.**"
   ]
  },
  {
   "cell_type": "code",
   "execution_count": 2,
   "id": "b661cf10",
   "metadata": {
    "execution": {
     "iopub.execute_input": "2023-03-01T16:40:02.461626Z",
     "iopub.status.busy": "2023-03-01T16:40:02.461107Z",
     "iopub.status.idle": "2023-03-01T16:40:02.470296Z",
     "shell.execute_reply": "2023-03-01T16:40:02.469103Z"
    },
    "papermill": {
     "duration": 0.019346,
     "end_time": "2023-03-01T16:40:02.472949",
     "exception": false,
     "start_time": "2023-03-01T16:40:02.453603",
     "status": "completed"
    },
    "tags": []
   },
   "outputs": [],
   "source": [
    "import numpy as np\n",
    "import pandas as pd\n",
    "import matplotlib.pyplot as plt\n",
    "\n",
    "%matplotlib inline"
   ]
  },
  {
   "cell_type": "markdown",
   "id": "3071c391",
   "metadata": {
    "papermill": {
     "duration": 0.005619,
     "end_time": "2023-03-01T16:40:02.484642",
     "exception": false,
     "start_time": "2023-03-01T16:40:02.479023",
     "status": "completed"
    },
    "tags": []
   },
   "source": [
    "* **Importing the DataSet.**"
   ]
  },
  {
   "cell_type": "code",
   "execution_count": 3,
   "id": "9974d3df",
   "metadata": {
    "execution": {
     "iopub.execute_input": "2023-03-01T16:40:02.498833Z",
     "iopub.status.busy": "2023-03-01T16:40:02.498341Z",
     "iopub.status.idle": "2023-03-01T16:40:06.407895Z",
     "shell.execute_reply": "2023-03-01T16:40:06.406458Z"
    },
    "papermill": {
     "duration": 3.920512,
     "end_time": "2023-03-01T16:40:06.411043",
     "exception": false,
     "start_time": "2023-03-01T16:40:02.490531",
     "status": "completed"
    },
    "tags": []
   },
   "outputs": [],
   "source": [
    "Data = pd.read_csv(\"/kaggle/input/digit-recognizer/train.csv\")"
   ]
  },
  {
   "cell_type": "code",
   "execution_count": 4,
   "id": "8bb6dfd2",
   "metadata": {
    "execution": {
     "iopub.execute_input": "2023-03-01T16:40:06.425763Z",
     "iopub.status.busy": "2023-03-01T16:40:06.425304Z",
     "iopub.status.idle": "2023-03-01T16:40:06.454094Z",
     "shell.execute_reply": "2023-03-01T16:40:06.452779Z"
    },
    "papermill": {
     "duration": 0.03951,
     "end_time": "2023-03-01T16:40:06.456944",
     "exception": false,
     "start_time": "2023-03-01T16:40:06.417434",
     "status": "completed"
    },
    "tags": []
   },
   "outputs": [
    {
     "data": {
      "text/html": [
       "<div>\n",
       "<style scoped>\n",
       "    .dataframe tbody tr th:only-of-type {\n",
       "        vertical-align: middle;\n",
       "    }\n",
       "\n",
       "    .dataframe tbody tr th {\n",
       "        vertical-align: top;\n",
       "    }\n",
       "\n",
       "    .dataframe thead th {\n",
       "        text-align: right;\n",
       "    }\n",
       "</style>\n",
       "<table border=\"1\" class=\"dataframe\">\n",
       "  <thead>\n",
       "    <tr style=\"text-align: right;\">\n",
       "      <th></th>\n",
       "      <th>label</th>\n",
       "      <th>pixel0</th>\n",
       "      <th>pixel1</th>\n",
       "      <th>pixel2</th>\n",
       "      <th>pixel3</th>\n",
       "      <th>pixel4</th>\n",
       "      <th>pixel5</th>\n",
       "      <th>pixel6</th>\n",
       "      <th>pixel7</th>\n",
       "      <th>pixel8</th>\n",
       "      <th>...</th>\n",
       "      <th>pixel774</th>\n",
       "      <th>pixel775</th>\n",
       "      <th>pixel776</th>\n",
       "      <th>pixel777</th>\n",
       "      <th>pixel778</th>\n",
       "      <th>pixel779</th>\n",
       "      <th>pixel780</th>\n",
       "      <th>pixel781</th>\n",
       "      <th>pixel782</th>\n",
       "      <th>pixel783</th>\n",
       "    </tr>\n",
       "  </thead>\n",
       "  <tbody>\n",
       "    <tr>\n",
       "      <th>0</th>\n",
       "      <td>1</td>\n",
       "      <td>0</td>\n",
       "      <td>0</td>\n",
       "      <td>0</td>\n",
       "      <td>0</td>\n",
       "      <td>0</td>\n",
       "      <td>0</td>\n",
       "      <td>0</td>\n",
       "      <td>0</td>\n",
       "      <td>0</td>\n",
       "      <td>...</td>\n",
       "      <td>0</td>\n",
       "      <td>0</td>\n",
       "      <td>0</td>\n",
       "      <td>0</td>\n",
       "      <td>0</td>\n",
       "      <td>0</td>\n",
       "      <td>0</td>\n",
       "      <td>0</td>\n",
       "      <td>0</td>\n",
       "      <td>0</td>\n",
       "    </tr>\n",
       "    <tr>\n",
       "      <th>1</th>\n",
       "      <td>0</td>\n",
       "      <td>0</td>\n",
       "      <td>0</td>\n",
       "      <td>0</td>\n",
       "      <td>0</td>\n",
       "      <td>0</td>\n",
       "      <td>0</td>\n",
       "      <td>0</td>\n",
       "      <td>0</td>\n",
       "      <td>0</td>\n",
       "      <td>...</td>\n",
       "      <td>0</td>\n",
       "      <td>0</td>\n",
       "      <td>0</td>\n",
       "      <td>0</td>\n",
       "      <td>0</td>\n",
       "      <td>0</td>\n",
       "      <td>0</td>\n",
       "      <td>0</td>\n",
       "      <td>0</td>\n",
       "      <td>0</td>\n",
       "    </tr>\n",
       "    <tr>\n",
       "      <th>2</th>\n",
       "      <td>1</td>\n",
       "      <td>0</td>\n",
       "      <td>0</td>\n",
       "      <td>0</td>\n",
       "      <td>0</td>\n",
       "      <td>0</td>\n",
       "      <td>0</td>\n",
       "      <td>0</td>\n",
       "      <td>0</td>\n",
       "      <td>0</td>\n",
       "      <td>...</td>\n",
       "      <td>0</td>\n",
       "      <td>0</td>\n",
       "      <td>0</td>\n",
       "      <td>0</td>\n",
       "      <td>0</td>\n",
       "      <td>0</td>\n",
       "      <td>0</td>\n",
       "      <td>0</td>\n",
       "      <td>0</td>\n",
       "      <td>0</td>\n",
       "    </tr>\n",
       "    <tr>\n",
       "      <th>3</th>\n",
       "      <td>4</td>\n",
       "      <td>0</td>\n",
       "      <td>0</td>\n",
       "      <td>0</td>\n",
       "      <td>0</td>\n",
       "      <td>0</td>\n",
       "      <td>0</td>\n",
       "      <td>0</td>\n",
       "      <td>0</td>\n",
       "      <td>0</td>\n",
       "      <td>...</td>\n",
       "      <td>0</td>\n",
       "      <td>0</td>\n",
       "      <td>0</td>\n",
       "      <td>0</td>\n",
       "      <td>0</td>\n",
       "      <td>0</td>\n",
       "      <td>0</td>\n",
       "      <td>0</td>\n",
       "      <td>0</td>\n",
       "      <td>0</td>\n",
       "    </tr>\n",
       "    <tr>\n",
       "      <th>4</th>\n",
       "      <td>0</td>\n",
       "      <td>0</td>\n",
       "      <td>0</td>\n",
       "      <td>0</td>\n",
       "      <td>0</td>\n",
       "      <td>0</td>\n",
       "      <td>0</td>\n",
       "      <td>0</td>\n",
       "      <td>0</td>\n",
       "      <td>0</td>\n",
       "      <td>...</td>\n",
       "      <td>0</td>\n",
       "      <td>0</td>\n",
       "      <td>0</td>\n",
       "      <td>0</td>\n",
       "      <td>0</td>\n",
       "      <td>0</td>\n",
       "      <td>0</td>\n",
       "      <td>0</td>\n",
       "      <td>0</td>\n",
       "      <td>0</td>\n",
       "    </tr>\n",
       "  </tbody>\n",
       "</table>\n",
       "<p>5 rows × 785 columns</p>\n",
       "</div>"
      ],
      "text/plain": [
       "   label  pixel0  pixel1  pixel2  pixel3  pixel4  pixel5  pixel6  pixel7  \\\n",
       "0      1       0       0       0       0       0       0       0       0   \n",
       "1      0       0       0       0       0       0       0       0       0   \n",
       "2      1       0       0       0       0       0       0       0       0   \n",
       "3      4       0       0       0       0       0       0       0       0   \n",
       "4      0       0       0       0       0       0       0       0       0   \n",
       "\n",
       "   pixel8  ...  pixel774  pixel775  pixel776  pixel777  pixel778  pixel779  \\\n",
       "0       0  ...         0         0         0         0         0         0   \n",
       "1       0  ...         0         0         0         0         0         0   \n",
       "2       0  ...         0         0         0         0         0         0   \n",
       "3       0  ...         0         0         0         0         0         0   \n",
       "4       0  ...         0         0         0         0         0         0   \n",
       "\n",
       "   pixel780  pixel781  pixel782  pixel783  \n",
       "0         0         0         0         0  \n",
       "1         0         0         0         0  \n",
       "2         0         0         0         0  \n",
       "3         0         0         0         0  \n",
       "4         0         0         0         0  \n",
       "\n",
       "[5 rows x 785 columns]"
      ]
     },
     "execution_count": 4,
     "metadata": {},
     "output_type": "execute_result"
    }
   ],
   "source": [
    "Data.head()"
   ]
  },
  {
   "cell_type": "markdown",
   "id": "249c4c81",
   "metadata": {
    "papermill": {
     "duration": 0.006408,
     "end_time": "2023-03-01T16:40:06.470094",
     "exception": false,
     "start_time": "2023-03-01T16:40:06.463686",
     "status": "completed"
    },
    "tags": []
   },
   "source": [
    "* **Some Initial Data Wrangling.**"
   ]
  },
  {
   "cell_type": "code",
   "execution_count": 5,
   "id": "453887a8",
   "metadata": {
    "execution": {
     "iopub.execute_input": "2023-03-01T16:40:06.485367Z",
     "iopub.status.busy": "2023-03-01T16:40:06.484969Z",
     "iopub.status.idle": "2023-03-01T16:40:07.273917Z",
     "shell.execute_reply": "2023-03-01T16:40:07.272513Z"
    },
    "papermill": {
     "duration": 0.800149,
     "end_time": "2023-03-01T16:40:07.277012",
     "exception": false,
     "start_time": "2023-03-01T16:40:06.476863",
     "status": "completed"
    },
    "tags": []
   },
   "outputs": [],
   "source": [
    "#Turning the Data into a Numpy Array.\n",
    "TrainData = np.array(Data)\n",
    "\n",
    "#Saving the Training Data Shape into Variables.\n",
    "TrainingDataRows, TrainingDataColumns = TrainData.shape\n",
    "\n",
    "#Shuffling the Data.\n",
    "np.random.shuffle(TrainData)\n",
    "\n",
    "#Creating the Validation DataSet.\n",
    "ValidationSize = 1000\n",
    "ValidationData = TrainData[0:ValidationSize].T #Transposing it\n",
    "\n",
    "#Creating the Training DataSet.\n",
    "TrainData = TrainData[ValidationSize:].T #Transposing it\n",
    "\n",
    "#Splitting the Validation DataSet.\n",
    "ValX = ValidationData[1:] #Every Column except the First one, which is the Label Column.\n",
    "ValX = ValX/255. #Standardizing\n",
    "ValY = ValidationData[0] #Since 0 is the Index of the Label Column.\n",
    "\n",
    "#Splitting the Training DataSet.\n",
    "TrainX = TrainData[1:] #Every Column except the First one, which is the Label Column.\n",
    "TrainX = TrainX/255. #Standardizing\n",
    "TrainY = TrainData[0] #Since 0 is the Index of the Label Column."
   ]
  },
  {
   "cell_type": "markdown",
   "id": "cd8e29d6",
   "metadata": {
    "papermill": {
     "duration": 0.00632,
     "end_time": "2023-03-01T16:40:07.290124",
     "exception": false,
     "start_time": "2023-03-01T16:40:07.283804",
     "status": "completed"
    },
    "tags": []
   },
   "source": [
    "* **Defining the ANN Architecture.**"
   ]
  },
  {
   "cell_type": "code",
   "execution_count": 6,
   "id": "ec9790c8",
   "metadata": {
    "execution": {
     "iopub.execute_input": "2023-03-01T16:40:07.305380Z",
     "iopub.status.busy": "2023-03-01T16:40:07.304971Z",
     "iopub.status.idle": "2023-03-01T16:40:07.309890Z",
     "shell.execute_reply": "2023-03-01T16:40:07.308978Z"
    },
    "papermill": {
     "duration": 0.015256,
     "end_time": "2023-03-01T16:40:07.312019",
     "exception": false,
     "start_time": "2023-03-01T16:40:07.296763",
     "status": "completed"
    },
    "tags": []
   },
   "outputs": [],
   "source": [
    "InputSize = 784 #One Input Neuron for each Pixel.\n",
    "OutputSize = 10 #Ten, since they are our Number of Different Ouputs (Numbers from 1 to 10).\n",
    "HiddenLayersSize = 50 #Size of the Hidden Layers, we will have 2 and assume they'll have same Size."
   ]
  },
  {
   "cell_type": "markdown",
   "id": "ab3f9ce4",
   "metadata": {
    "papermill": {
     "duration": 0.00601,
     "end_time": "2023-03-01T16:40:07.324436",
     "exception": false,
     "start_time": "2023-03-01T16:40:07.318426",
     "status": "completed"
    },
    "tags": []
   },
   "source": [
    "* **Defining a Function for Initializing Weights and Biases.**"
   ]
  },
  {
   "cell_type": "code",
   "execution_count": 7,
   "id": "3158fc76",
   "metadata": {
    "execution": {
     "iopub.execute_input": "2023-03-01T16:40:07.339558Z",
     "iopub.status.busy": "2023-03-01T16:40:07.338846Z",
     "iopub.status.idle": "2023-03-01T16:40:07.347199Z",
     "shell.execute_reply": "2023-03-01T16:40:07.346001Z"
    },
    "papermill": {
     "duration": 0.019152,
     "end_time": "2023-03-01T16:40:07.349872",
     "exception": false,
     "start_time": "2023-03-01T16:40:07.330720",
     "status": "completed"
    },
    "tags": []
   },
   "outputs": [],
   "source": [
    "def InitParams():\n",
    "    InitRange = 0.1\n",
    "    \n",
    "    #Try to Draw down the Neural Network Architecture to better Understand Weights and Biases Shapes.\n",
    "    WeightsLayerOne = np.random.uniform(-InitRange, InitRange, size = (HiddenLayersSize, InputSize))\n",
    "    BiasesLayerOne = np.random.uniform(-InitRange, InitRange, size = (HiddenLayersSize, 1))\n",
    "    WeightsLayerTwo = np.random.uniform(-InitRange, InitRange, size = (HiddenLayersSize, HiddenLayersSize))\n",
    "    BiasesLayerTwo = np.random.uniform(-InitRange, InitRange, size = (HiddenLayersSize, 1))\n",
    "    WeightsOutputLayer = np.random.uniform(-InitRange, InitRange, size = (OutputSize, HiddenLayersSize))\n",
    "    BiasesOutputLayer = np.random.uniform(-InitRange, InitRange, size = (OutputSize, 1))\n",
    "    \n",
    "    return WeightsLayerOne, BiasesLayerOne, WeightsLayerTwo, BiasesLayerTwo, WeightsOutputLayer, BiasesOutputLayer"
   ]
  },
  {
   "cell_type": "markdown",
   "id": "0d2d6b3a",
   "metadata": {
    "papermill": {
     "duration": 0.005984,
     "end_time": "2023-03-01T16:40:07.362292",
     "exception": false,
     "start_time": "2023-03-01T16:40:07.356308",
     "status": "completed"
    },
    "tags": []
   },
   "source": [
    "### The Formulas that We'll use for Forward Propagation are:\n",
    "\n",
    "$Z[1] = W[1]X+B[1]$\n",
    " \n",
    "$A[1] = ReLU(Z[1])$\n",
    " \n",
    "$Z[2] = W[2]A[1]+B[2]$\n",
    "\n",
    "$A[2] = ReLU(Z[2])$\n",
    "\n",
    "$Z[3] = W[3]A[2]+B[3]$\n",
    " \n",
    "$A[3] = SoftMax(Z[3])$ \n",
    "\n",
    "**Explanation:**\n",
    "\n",
    "1. We Calculate the Dot Product and add the Biases B1 of the Input Layer and the Weights W1.\n",
    "2. We'll Obtain the (Linear) Output Variable of the First Hidden Layer, which we will call Z1.\n",
    "3. We'll Add Non-Linearity to the Z1 Output, Obtaining A1, the Output of the First Hidden Layer.\n",
    "4. We'll move onto the Second Hidden Layer, where we'll Calculate the Dot Product and add the Biases B2 of the Output A1 and Weights W2.\n",
    "5. We'll Obtain the Output Variable of the Second Hidden Layer, which we will call Z2.\n",
    "6. We'll Add Non-Linearity to the Z2 Output, Obtaining A2, the Output of the Second Hidden Layer.\n",
    "7. We'll move onto the Output Layer, where we'll Calculate the Dot Product and add the Biases B3 of the Output A2 and Weights W3, Obtaining Z3.\n",
    "8. We'll use the SoftMax Function to the Z3 Output and Obtain the Final Predicted Output, which we'll call A3.\n",
    "\n",
    "### The Formulas that We'll use for Backward Propagation are:\n",
    "\n",
    "$dZ^{[3]} = A^{[3]} - Y$\n",
    "\n",
    "$dW^{[3]} = \\frac{1}{m} dZ^{[3]} A^{[2]T}$\n",
    "\n",
    "$dB^{[3]} = \\frac{1}{m} \\Sigma {dZ^{[3]}}$\n",
    "\n",
    "$dZ^{[2]} = W^{[3]T} dZ^{[3]} .* g^{[2]\\prime} (z^{[2]})$\n",
    "\n",
    "$dW^{[2]} = \\frac{1}{m} dZ^{[2]} A^{[1]T}$\n",
    "\n",
    "$dB^{[2]} = \\frac{1}{m} \\Sigma {dZ^{[2]}}$\n",
    "\n",
    "$dZ^{[1]} = W^{[2]T} dZ^{[2]} .* g^{[1]\\prime} (z^{[1]})$\n",
    "\n",
    "$dW^{[1]} = \\frac{1}{m} dZ^{[1]} A^{[0]T}$\n",
    "\n",
    "$dB^{[1]} = \\frac{1}{m} \\Sigma {dZ^{[1]}}$\n",
    "\n",
    "### The Formulas that We'll use for Weights Updates are:\n",
    "\n",
    "$W^{[3]} := W^{[3]} - \\alpha dW^{[3]}$\n",
    "\n",
    "$B^{[3]} := B^{[3]} - \\alpha dB^{[3]}$\n",
    "\n",
    "$W^{[2]} := W^{[2]} - \\alpha dW^{[2]}$\n",
    "\n",
    "$B^{[2]} := B^{[2]} - \\alpha dB^{[2]}$\n",
    "\n",
    "$W^{[1]} := W^{[1]} - \\alpha dW^{[1]}$\n",
    "\n",
    "$B^{[1]} := B^{[1]} - \\alpha dB^{[1]}$"
   ]
  },
  {
   "cell_type": "markdown",
   "id": "c367e442",
   "metadata": {
    "papermill": {
     "duration": 0.006041,
     "end_time": "2023-03-01T16:40:07.374749",
     "exception": false,
     "start_time": "2023-03-01T16:40:07.368708",
     "status": "completed"
    },
    "tags": []
   },
   "source": [
    "* **Defining the Functions for Making the ANN Run.**"
   ]
  },
  {
   "cell_type": "code",
   "execution_count": 8,
   "id": "5253cee3",
   "metadata": {
    "execution": {
     "iopub.execute_input": "2023-03-01T16:40:07.389700Z",
     "iopub.status.busy": "2023-03-01T16:40:07.389193Z",
     "iopub.status.idle": "2023-03-01T16:40:07.411503Z",
     "shell.execute_reply": "2023-03-01T16:40:07.410510Z"
    },
    "papermill": {
     "duration": 0.032815,
     "end_time": "2023-03-01T16:40:07.414085",
     "exception": false,
     "start_time": "2023-03-01T16:40:07.381270",
     "status": "completed"
    },
    "tags": []
   },
   "outputs": [],
   "source": [
    "def ReLu(x):\n",
    "    return np.maximum(0, x) #This is Literally the ReLu Function.\n",
    "\n",
    "def SoftMax(x):\n",
    "    return np.exp(x) / sum(np.exp(x)) #This is Literally the SoftMax Function.\n",
    "\n",
    "def ForwardPropagation(w1, b1, w2, b2, w3, b3, x):\n",
    "    #Calculating the Output of the First Layer \n",
    "    z1 = w1.dot(x) + b1\n",
    "    a1 = ReLu(z1)\n",
    "    z2 = w2.dot(a1) + b2\n",
    "    a2 = ReLu(z2)\n",
    "    z3 = w3.dot(a2) + b3\n",
    "    a3 = SoftMax(z3)\n",
    "    \n",
    "    return z1, a1, z2, a2, z3, a3\n",
    "\n",
    "def OneHotEncoding(y):\n",
    "    Y = np.zeros((y.size, y.max()+1))\n",
    "    Y[np.arange(y.size), y] = 1\n",
    "    Y  = Y.T\n",
    "    \n",
    "    return Y\n",
    "\n",
    "def ReLuDerivative(z):\n",
    "    return z > 0 #The ReLu Derivative literally returns False (0) if z <= 0 otherwise returns True (1)\n",
    "\n",
    "def BackPropagation(z1, a1, z2, a2, z3, a3, w1, w2, w3, x, y):\n",
    "    m = y.size\n",
    "    Y = OneHotEncoding(y)\n",
    "    dz3 = a3 - Y\n",
    "    dw3 = 1/m * dz3.dot(a2.T)\n",
    "    db3 = 1/m * np.sum(dz3)\n",
    "    dz2 = w3.T.dot(dz3) * ReLuDerivative(z2)\n",
    "    dw2 = 1/m * dz2.dot(a1.T)\n",
    "    db2 = 1/m * np.sum(dz2)\n",
    "    dz1 = w2.T.dot(dz2) * ReLuDerivative(z1)\n",
    "    dw1 = 1/m * dz1.dot(x.T)\n",
    "    db1 = 1/m * np.sum(dz1)\n",
    "    \n",
    "    return dw1, db1, dw2, db2, dw3, db3\n",
    "\n",
    "def UpdateParameters(w1, b1, w2, b2, w3, b3, dw1, db1, dw2, db2, dw3, db3, alpha):\n",
    "    w1 = w1 - alpha*dw1\n",
    "    b1 = b1 - alpha*db1\n",
    "    w2 = w2 - alpha*dw2\n",
    "    b2 = b2 - alpha*db2\n",
    "    w3 = w3 - alpha*dw3\n",
    "    b3 = b3 - alpha*db3\n",
    "    \n",
    "    return w1, b1, w2, b2, w3, b3\n",
    "\n",
    "def GetPredictions(a3):\n",
    "    return np.argmax(a3, 0)\n",
    "\n",
    "def GetAccuracy(Preds, y):\n",
    "    return np.sum(Preds == y) / y.size\n",
    "\n",
    "def GradientDescent(x, y, Iterations, alpha):\n",
    "    w1, b1, w2, b2, w3, b3 = InitParams()\n",
    "    \n",
    "    for i in range(Iterations):\n",
    "        z1, a1, z2, a2, z3, a3 = ForwardPropagation(w1, b1, w2, b2, w3, b3, x)\n",
    "        dw1, db1, dw2, db2, dw3, db3 = BackPropagation(z1, a1, z2, a2, z3, a3, w1, w2, w3, x, y)\n",
    "        w1, b1, w2, b2, w3, b3 = UpdateParameters(w1, b1, w2, b2, w3, b3, dw1, db1, dw2, db2, dw3, db3, alpha)\n",
    "        \n",
    "        if i%10 == 0:\n",
    "            print(f\"Iteration: {i}\\nAccuracy: {GetAccuracy(GetPredictions(a3), y)}\")\n",
    "        \n",
    "    return w1, b1, w2, b2, w3, b3"
   ]
  },
  {
   "cell_type": "code",
   "execution_count": 9,
   "id": "e1b06b31",
   "metadata": {
    "execution": {
     "iopub.execute_input": "2023-03-01T16:40:07.429431Z",
     "iopub.status.busy": "2023-03-01T16:40:07.428272Z",
     "iopub.status.idle": "2023-03-01T16:43:42.729730Z",
     "shell.execute_reply": "2023-03-01T16:43:42.727829Z"
    },
    "papermill": {
     "duration": 215.315021,
     "end_time": "2023-03-01T16:43:42.735554",
     "exception": false,
     "start_time": "2023-03-01T16:40:07.420533",
     "status": "completed"
    },
    "tags": []
   },
   "outputs": [
    {
     "name": "stdout",
     "output_type": "stream",
     "text": [
      "Iteration: 0\n",
      "Accuracy: 0.10046341463414635\n",
      "Iteration: 10\n",
      "Accuracy: 0.12573170731707317\n",
      "Iteration: 20\n",
      "Accuracy: 0.19209756097560976\n",
      "Iteration: 30\n",
      "Accuracy: 0.2394390243902439\n",
      "Iteration: 40\n",
      "Accuracy: 0.2698536585365854\n",
      "Iteration: 50\n",
      "Accuracy: 0.39995121951219514\n",
      "Iteration: 60\n",
      "Accuracy: 0.5335121951219512\n",
      "Iteration: 70\n",
      "Accuracy: 0.5996341463414634\n",
      "Iteration: 80\n",
      "Accuracy: 0.6771463414634147\n",
      "Iteration: 90\n",
      "Accuracy: 0.727780487804878\n",
      "Iteration: 100\n",
      "Accuracy: 0.7585121951219512\n",
      "Iteration: 110\n",
      "Accuracy: 0.779390243902439\n",
      "Iteration: 120\n",
      "Accuracy: 0.7981219512195122\n",
      "Iteration: 130\n",
      "Accuracy: 0.8124146341463415\n",
      "Iteration: 140\n",
      "Accuracy: 0.8257317073170731\n",
      "Iteration: 150\n",
      "Accuracy: 0.8370731707317073\n",
      "Iteration: 160\n",
      "Accuracy: 0.8471463414634146\n",
      "Iteration: 170\n",
      "Accuracy: 0.8547560975609756\n",
      "Iteration: 180\n",
      "Accuracy: 0.8606829268292683\n",
      "Iteration: 190\n",
      "Accuracy: 0.8658292682926829\n",
      "Iteration: 200\n",
      "Accuracy: 0.8700731707317073\n",
      "Iteration: 210\n",
      "Accuracy: 0.873780487804878\n",
      "Iteration: 220\n",
      "Accuracy: 0.877780487804878\n",
      "Iteration: 230\n",
      "Accuracy: 0.8804634146341463\n",
      "Iteration: 240\n",
      "Accuracy: 0.8831951219512195\n",
      "Iteration: 250\n",
      "Accuracy: 0.8851219512195122\n",
      "Iteration: 260\n",
      "Accuracy: 0.8867804878048781\n",
      "Iteration: 270\n",
      "Accuracy: 0.888609756097561\n",
      "Iteration: 280\n",
      "Accuracy: 0.8902926829268293\n",
      "Iteration: 290\n",
      "Accuracy: 0.8920975609756098\n",
      "Iteration: 300\n",
      "Accuracy: 0.8934634146341464\n",
      "Iteration: 310\n",
      "Accuracy: 0.8947073170731707\n",
      "Iteration: 320\n",
      "Accuracy: 0.8957317073170732\n",
      "Iteration: 330\n",
      "Accuracy: 0.8969756097560976\n",
      "Iteration: 340\n",
      "Accuracy: 0.8976585365853659\n",
      "Iteration: 350\n",
      "Accuracy: 0.8986829268292683\n",
      "Iteration: 360\n",
      "Accuracy: 0.8995365853658537\n",
      "Iteration: 370\n",
      "Accuracy: 0.9004390243902439\n",
      "Iteration: 380\n",
      "Accuracy: 0.9013658536585366\n",
      "Iteration: 390\n",
      "Accuracy: 0.9024146341463415\n",
      "Iteration: 400\n",
      "Accuracy: 0.9031463414634147\n",
      "Iteration: 410\n",
      "Accuracy: 0.9038536585365854\n",
      "Iteration: 420\n",
      "Accuracy: 0.9046585365853659\n",
      "Iteration: 430\n",
      "Accuracy: 0.905390243902439\n",
      "Iteration: 440\n",
      "Accuracy: 0.9060731707317073\n",
      "Iteration: 450\n",
      "Accuracy: 0.9068536585365854\n",
      "Iteration: 460\n",
      "Accuracy: 0.9076829268292683\n",
      "Iteration: 470\n",
      "Accuracy: 0.9083658536585366\n",
      "Iteration: 480\n",
      "Accuracy: 0.9091463414634147\n",
      "Iteration: 490\n",
      "Accuracy: 0.9096829268292683\n"
     ]
    }
   ],
   "source": [
    "W1, B1, W2, B2, W3, B3 = GradientDescent(TrainX, TrainY, 500, 0.1)"
   ]
  },
  {
   "cell_type": "markdown",
   "id": "99f4ced3",
   "metadata": {
    "papermill": {
     "duration": 0.024477,
     "end_time": "2023-03-01T16:43:42.785542",
     "exception": false,
     "start_time": "2023-03-01T16:43:42.761065",
     "status": "completed"
    },
    "tags": []
   },
   "source": [
    "**Around 90% Accuracy, not Bad!**"
   ]
  },
  {
   "cell_type": "markdown",
   "id": "8b91c00e",
   "metadata": {
    "papermill": {
     "duration": 0.023715,
     "end_time": "2023-03-01T16:43:42.834434",
     "exception": false,
     "start_time": "2023-03-01T16:43:42.810719",
     "status": "completed"
    },
    "tags": []
   },
   "source": [
    "* **Let's Define some other Functions to see some of the Results:**"
   ]
  },
  {
   "cell_type": "code",
   "execution_count": 10,
   "id": "37c0f59c",
   "metadata": {
    "execution": {
     "iopub.execute_input": "2023-03-01T16:43:42.860668Z",
     "iopub.status.busy": "2023-03-01T16:43:42.860187Z",
     "iopub.status.idle": "2023-03-01T16:43:42.868925Z",
     "shell.execute_reply": "2023-03-01T16:43:42.867649Z"
    },
    "papermill": {
     "duration": 0.022544,
     "end_time": "2023-03-01T16:43:42.871380",
     "exception": false,
     "start_time": "2023-03-01T16:43:42.848836",
     "status": "completed"
    },
    "tags": []
   },
   "outputs": [],
   "source": [
    "def MakePredictions(w1, b1, w2, b2, w3, b3, x):\n",
    "    z1, a1, z2, a2, z3, a3 = ForwardPropagation(w1, b1, w2, b2, w3, b3, x)\n",
    "    return GetPredictions(a3)\n",
    "\n",
    "def TestPredictions(target, w1, b1, w2, b2, w3, b3):\n",
    "    CurrentPic = TrainX[:, target, None]\n",
    "    Preds = MakePredictions(w1, b1, w2, b2, w3, b3, TrainX[:, target, None])\n",
    "    Label = TrainY[target]\n",
    "    print(\"Prediction: \", Preds)\n",
    "    print(\"Label: \", Label)\n",
    "    \n",
    "    CurrentPic = CurrentPic.reshape((28, 28)) * 255\n",
    "    plt.gray()\n",
    "    plt.imshow(CurrentPic, interpolation = 'nearest')\n",
    "    plt.show()"
   ]
  },
  {
   "cell_type": "code",
   "execution_count": 11,
   "id": "44843fff",
   "metadata": {
    "execution": {
     "iopub.execute_input": "2023-03-01T16:43:42.892864Z",
     "iopub.status.busy": "2023-03-01T16:43:42.892374Z",
     "iopub.status.idle": "2023-03-01T16:43:43.828942Z",
     "shell.execute_reply": "2023-03-01T16:43:43.827671Z"
    },
    "papermill": {
     "duration": 0.950432,
     "end_time": "2023-03-01T16:43:43.831472",
     "exception": false,
     "start_time": "2023-03-01T16:43:42.881040",
     "status": "completed"
    },
    "tags": []
   },
   "outputs": [
    {
     "name": "stdout",
     "output_type": "stream",
     "text": [
      "Prediction:  [0]\n",
      "Label:  0\n"
     ]
    },
    {
     "data": {
      "image/png": "[encoded data removed]",
      "text/plain": [
       "<Figure size 640x480 with 1 Axes>"
      ]
     },
     "metadata": {},
     "output_type": "display_data"
    },
    {
     "name": "stdout",
     "output_type": "stream",
     "text": [
      "Prediction:  [1]\n",
      "Label:  1\n"
     ]
    },
    {
     "data": {
      "image/png": "[encoded data removed]",
      "text/plain": [
       "<Figure size 640x480 with 1 Axes>"
      ]
     },
     "metadata": {},
     "output_type": "display_data"
    },
    {
     "name": "stdout",
     "output_type": "stream",
     "text": [
      "Prediction:  [8]\n",
      "Label:  8\n"
     ]
    },
    {
     "data": {
      "image/png": "[encoded data removed]",
      "text/plain": [
       "<Figure size 640x480 with 1 Axes>"
      ]
     },
     "metadata": {},
     "output_type": "display_data"
    },
    {
     "name": "stdout",
     "output_type": "stream",
     "text": [
      "Prediction:  [6]\n",
      "Label:  6\n"
     ]
    },
    {
     "data": {
      "image/png": "[encoded data removed]",
      "text/plain": [
       "<Figure size 640x480 with 1 Axes>"
      ]
     },
     "metadata": {},
     "output_type": "display_data"
    }
   ],
   "source": [
    "TestPredictions(0, W1, B1, W2, B2, W3, B3)\n",
    "TestPredictions(1, W1, B1, W2, B2, W3, B3)\n",
    "TestPredictions(2, W1, B1, W2, B2, W3, B3)\n",
    "TestPredictions(3, W1, B1, W2, B2, W3, B3)"
   ]
  },
  {
   "cell_type": "code",
   "execution_count": 12,
   "id": "75a5568f",
   "metadata": {
    "execution": {
     "iopub.execute_input": "2023-03-01T16:43:43.856019Z",
     "iopub.status.busy": "2023-03-01T16:43:43.855529Z",
     "iopub.status.idle": "2023-03-01T16:43:43.879156Z",
     "shell.execute_reply": "2023-03-01T16:43:43.877752Z"
    },
    "papermill": {
     "duration": 0.040582,
     "end_time": "2023-03-01T16:43:43.883381",
     "exception": false,
     "start_time": "2023-03-01T16:43:43.842799",
     "status": "completed"
    },
    "tags": []
   },
   "outputs": [
    {
     "data": {
      "text/plain": [
       "0.912"
      ]
     },
     "execution_count": 12,
     "metadata": {},
     "output_type": "execute_result"
    }
   ],
   "source": [
    "#Validation Accuracy\n",
    "dev_predictions = MakePredictions(W1, B1, W2, B2, W3, B3, ValX)\n",
    "GetAccuracy(dev_predictions, ValY)"
   ]
  },
  {
   "cell_type": "code",
   "execution_count": 13,
   "id": "bab97406",
   "metadata": {
    "execution": {
     "iopub.execute_input": "2023-03-01T16:43:43.943536Z",
     "iopub.status.busy": "2023-03-01T16:43:43.942558Z",
     "iopub.status.idle": "2023-03-01T16:43:43.966133Z",
     "shell.execute_reply": "2023-03-01T16:43:43.964869Z"
    },
    "papermill": {
     "duration": 0.058551,
     "end_time": "2023-03-01T16:43:43.970404",
     "exception": false,
     "start_time": "2023-03-01T16:43:43.911853",
     "status": "completed"
    },
    "tags": []
   },
   "outputs": [
    {
     "data": {
      "text/plain": [
       "88"
      ]
     },
     "execution_count": 13,
     "metadata": {},
     "output_type": "execute_result"
    }
   ],
   "source": [
    "Diff = MakePredictions(W1, B1, W2, B2, W3, B3, ValX) - ValY\n",
    "\n",
    "np.count_nonzero(Diff) #88 Predictions Were Wrong."
   ]
  }
 ],
 "metadata": {
  "kernelspec": {
   "display_name": "Python 3",
   "language": "python",
   "name": "python3"
  },
  "language_info": {
   "codemirror_mode": {
    "name": "ipython",
    "version": 3
   },
   "file_extension": ".py",
   "mimetype": "text/x-python",
   "name": "python",
   "nbconvert_exporter": "python",
   "pygments_lexer": "ipython3",
   "version": "3.7.12"
  },
  "papermill": {
   "default_parameters": {},
   "duration": 234.858204,
   "end_time": "2023-03-01T16:43:47.089892",
   "environment_variables": {},
   "exception": null,
   "input_path": "__notebook__.ipynb",
   "output_path": "__notebook__.ipynb",
   "parameters": {},
   "start_time": "2023-03-01T16:39:52.231688",
   "version": "2.3.4"
  }
 },
 "nbformat": 4,
 "nbformat_minor": 5
}
